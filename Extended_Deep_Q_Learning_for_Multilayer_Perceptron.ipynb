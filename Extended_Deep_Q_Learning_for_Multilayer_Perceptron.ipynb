{
 "cells": [
  {
   "cell_type": "markdown",
   "metadata": {},
   "source": [
    "# Extended Deep Q-Learning for Multilayer Perceptron"
   ]
  },
  {
   "cell_type": "markdown",
   "metadata": {},
   "source": [
    "### 1. Basics"
   ]
  },
  {
   "cell_type": "markdown",
   "metadata": {},
   "source": [
    "### The Reinforcement Learning Framework:\n",
    "- reinforcement learning (RL) framework is characterized by an agent learning to interact with its environment\n",
    "- at each time step, the agent receives the environment's state \n",
    "- the agent must choose an appropriate action in response\n",
    "- at the next time step, the agent receives a reward and a new state\n",
    "- the agent has the goal to maximize the expected cumulative reward\n",
    "\n",
    "\n",
    "### Policy:\n",
    "- we can distinguish between deterministic and stochastic policy\n",
    "##### Deterministic policy:\n",
    "- a mapping from state to action\n",
    "    - $\\pi : S \\to A$\n",
    "    - for each state $s \\in S$ it yields the action $a \\in A$ that the agent will choose while in state $s$\n",
    "####  Stochastic policy:\n",
    "- a mapping from state to action probability \n",
    "    - $\\pi : S \\times A \\to [0,1]$\n",
    "    - for each state $s \\in S$ it and action $a \\in A$ it yields the probability $\\pi(a|s)$ that the agent chooses action $a$ while in state $s$\n",
    "\n",
    "### State-Value Functions:\n",
    "\n",
    "- state-value function for a policy $\\pi$ is denoted $v_\\pi$\n",
    "- $v_\\pi = \\mathbb{E_\\pi}[G_t | S_t = s]$\n",
    "    - for each state $s \\in S$, it yields the expected return if the agent starts in state $s$ and then uses the policy $\\pi$ to choose its actions $a$ for all remaining time steps\n",
    "    - $\\mathbb{E_\\pi}$ is the expected value of a random variable, given that the agent follows policy $\\pi$\n",
    "    \n",
    "### Action-Value Functions:\n",
    "\n",
    "- action-value function for a policy  $\\pi$ is denoted $q_\\pi$\n",
    "- $q_\\pi(s, a) = \\mathbb{E_\\pi}[G_t | S_t = s, A_t = a]$\n",
    "    - for each state $s \\in S$ and action $a \\in A$ tuple, it yields the expected return if the agent starts in state $s$, takes action $a$, and then follows the policy for all remaining time steps\n",
    "    - $\\mathbb{E_\\pi}$ is the expected value of a random variable, given that the agent follows policy $\\pi$\n",
    "    \n",
    "### Temporal Difference:\n",
    "- $TD_t(a_t, s_t) = r_t + \\gamma max_a(Q(a, s_{t+1})) - Q(a, s_t)$ <p>\n",
    "$r_t$: reward $r_t$ obtained by playing the action $a_t$ in the state $s_t$<br>\n",
    "$\\gamma$: discount factor(hyperparameter)<br>\n",
    "$max_a(Q(a, s_{t+1}))$: Q-value of the best action played in the state $s_{t+1}$<br>\n",
    "$Q(a, s_t)$: Q-value of the action $a_t$ played in the state $s_t$\n",
    "    \n",
    "- use the temporal difference $TD_t(a_t, s_t)$ to update $Q(a, s_t)$ \n",
    "    - $Q(a, s_t) = Q(a, s_t) + \\alpha * TD_t(a_t, s_t) $ \n",
    "    - the action value function is updated after every time step"
   ]
  },
  {
   "cell_type": "markdown",
   "metadata": {},
   "source": [
    "### 2. Deep Q-Learning"
   ]
  },
  {
   "cell_type": "markdown",
   "metadata": {},
   "source": [
    "![alt text](images/Generalization-of-Q-learning-with-neural-network.png \"Q_Learning_Network\")\n",
    "[Image Source](https://www.researchgate.net/profile/Jason_Gu2/publication/251898588/figure/fig1/AS:358420172558336@1462465436051/Generalization-of-Q-learning-with-neural-network.png)\n",
    "\n",
    "- in deep Q-learning, we use an artificial neural network as q value function\n",
    "    - the input to the network is the environment states\n",
    "    - the output of the network is a q-value for all possible actions\n",
    "    - we can now select the action based on this q-values\n",
    "        - for example by using an $\\epsilon$-greedy policy\n",
    "    - the network is updated by using the temporal difference method"
   ]
  },
  {
   "cell_type": "markdown",
   "metadata": {},
   "source": [
    "### 3. Implemented Extensions"
   ]
  },
  {
   "cell_type": "markdown",
   "metadata": {},
   "source": [
    "### Fixed Q-Targets:\n",
    "- in vanilla Q-Learning, we are updating a guess for the q values with a guess\n",
    "- this can potentially lead to harmful correlations\n",
    "- we can break these correlations by using fixed Q-Targets meaning we are using two separated networks\n",
    "    - new updaterule: $\\Delta w = \\alpha * (r_t + \\gamma max_a(Q(a, s_{t+1}, w^-)) - Q(a, s_t, w)) \\nabla_w Q(a, s_t, w)$\n",
    "    - $w^-$ are the weights of a separate target network that are not changed during the learning step\n",
    "        - target Q-Network weights are updated less often(or more slowly) than the Q-Network\n",
    "        \n",
    "### Experience Replay:\n",
    "- deals with the problem that the sequence of experience tuples can be highly correlated\n",
    "- by learning from this experience tuples in sequential order, we run into the risk of getting swayed by the effects of this correlation\n",
    "- we can handle this problem by saving the last $m$ transitions\n",
    "    - $m$ is a large number\n",
    "    - a transition (or experience) is often defined as a tuple in the form of (state, action, reward, next_state, done)\n",
    "- the pack of the last transition is called experience replay(or replay buffer)\n",
    "- from this replay buffer, we take random batches of transitions to make updates to the network\n",
    "    - this randomness breaks the correlation\n",
    "    - this also allows us to learn more from individual tuples multiple times\n",
    "\n",
    "### Gradient Clipping:\n",
    "- deals with the problem of exploding gradients\n",
    "    - gradient gets exponentially large from being multiplied by numbers larger than 1\n",
    "- gradient clipping puts the gradients in a range between a min and max value to avoid this problem\n",
    "\n",
    "### Double Deep Q-Learning:\n",
    "- addresses the problem of overestimation of the Q-Values\n",
    "- the Q-Values depend a lot on what actions have been already tried and what states have been explored\n",
    "- that means that choosing the right max value can be error-prone especially in the early stages\n",
    "    - that is because the Q-values are still evolving and we might need more information to figure out the best action\n",
    "    - we are basically choosing the max value among a set of noisy numbers which leads to the overestimation\n",
    "- to solve this problem, we select the best action using one set of parameters $w$ but evaluate it using a different set of parameters $w^-$\n",
    "    - we can use our already introduced target Q-Network for this\n",
    "- that means we have two separate function approximators that must agree on the best action\n",
    "    - if $w$ picks an action that is not the best according to $w^-$ then the estimated Q-Value is not that high\n",
    "    \n",
    "\n",
    "### Dueling Networks:\n",
    "\n",
    "![alt text](images/dueling_dqn.png \"Dueling_Q_Learning_Network\")\n",
    "[Image Source](https://coach.nervanasys.com/algorithms/value_optimization/dueling_dqn/index.html)\n",
    "\n",
    "- the core idea of dueling networks is to use a specialized Dueling Q Head to separate $Q$ to an $A$ (advantage) stream and a $V$ (state value) stream\n",
    "    - the streams may share some layers at the beginning then branch off with their own fully connected layers\n",
    "    - this allows the network to differentiate actions from one another better\n",
    "- the reason for this is that the value of most states do not vary a lot across actions\n",
    "    - we can start learning the state-value even if only a single action has been taken at this state\n",
    "- this leads to faster learning, but we still need to capture the difference that actions make in each state\n",
    "    - the advantage stream realizes this"
   ]
  },
  {
   "cell_type": "markdown",
   "metadata": {},
   "source": [
    "### 4. Examples"
   ]
  },
  {
   "cell_type": "code",
   "execution_count": 1,
   "metadata": {},
   "outputs": [],
   "source": [
    "%matplotlib inline\n",
    "\n",
    "import gym\n",
    "import json\n",
    "import os\n",
    "import helper\n",
    "from dqn_agent import Agent\n",
    "import sessions\n",
    "\n",
    "# ignore gymn warnings\n",
    "import warnings\n",
    "warnings.filterwarnings('ignore')"
   ]
  },
  {
   "cell_type": "markdown",
   "metadata": {},
   "source": [
    "### Environment: Lunar_Lander_v2"
   ]
  },
  {
   "cell_type": "markdown",
   "metadata": {},
   "source": [
    "- LunarLander-v2 defines \"solving\" as getting average reward of 200 over 100 consecutive trials"
   ]
  },
  {
   "cell_type": "code",
   "execution_count": 2,
   "metadata": {},
   "outputs": [
    {
     "name": "stdout",
     "output_type": "stream",
     "text": [
      "\u001b[33mWARN: gym.spaces.Box autodetected dtype as <class 'numpy.float32'>. Please provide explicit dtype.\u001b[0m\n",
      "Episode 100\tAverage Score: -214.30\n",
      "Episode 200\tAverage Score: -152.37\n",
      "Episode 300\tAverage Score: -96.496\n",
      "Episode 400\tAverage Score: -65.861\n",
      "Episode 500\tAverage Score: 84.633\n",
      "Episode 600\tAverage Score: 169.72\n",
      "Episode 700\tAverage Score: 192.23\n",
      "Episode 758\tAverage Score: 200.30\n",
      "LunarLander-v2 Environment solved in 658 episodes!\n"
     ]
    },
    {
     "data": {
      "image/png": "[encoded data removed]",
      "text/plain": [
       "<Figure size 432x288 with 1 Axes>"
      ]
     },
     "metadata": {},
     "output_type": "display_data"
    },
    {
     "name": "stdout",
     "output_type": "stream",
     "text": [
      "Best 100-episode performance: 200.2989085178099 +/- 59.337490722745\n"
     ]
    }
   ],
   "source": [
    "with open(os.path.join(\".\", \"configs\", \"Lunar_Lander_v2.json\"), \"r\") as read_file:\n",
    "    config = json.load(read_file)\n",
    "    \n",
    "env = gym.make(config[\"general\"][\"env_name\"])\n",
    "env.seed(config[\"general\"][\"seed\"])\n",
    "agent = Agent(config=config)\n",
    "\n",
    "if config[\"train\"][\"run_training\"]:\n",
    "    scores, best_mean, best_std = sessions.train(agent, env, config)\n",
    "    helper.plot_scores(scores)\n",
    "    print(\"Best 100-episode performance: {} +/- {}\".format(best_mean, best_std))\n",
    "    agent.save()\n",
    "else:\n",
    "    agent.load()\n",
    "    score = sessions.test(agent, env, config)\n",
    "    print(\"Episode score: {}\".format(score))"
   ]
  },
  {
   "cell_type": "markdown",
   "metadata": {},
   "source": [
    "### Environment: Acrobot-v1"
   ]
  },
  {
   "cell_type": "markdown",
   "metadata": {},
   "source": [
    "- Acrobot-v1 is an unsolved environment\n",
    "    - it does not have a specified reward threshold at which it's considered solved"
   ]
  },
  {
   "cell_type": "code",
   "execution_count": 3,
   "metadata": {},
   "outputs": [
    {
     "name": "stdout",
     "output_type": "stream",
     "text": [
      "\u001b[33mWARN: gym.spaces.Box autodetected dtype as <class 'numpy.float32'>. Please provide explicit dtype.\u001b[0m\n",
      "Episode 100\tAverage Score: -487.30\n",
      "Episode 200\tAverage Score: -343.34\n",
      "Episode 300\tAverage Score: -201.39\n",
      "Episode 400\tAverage Score: -178.74\n",
      "Episode 500\tAverage Score: -126.87\n",
      "Episode 600\tAverage Score: -117.44\n",
      "Episode 700\tAverage Score: -101.06\n",
      "Episode 800\tAverage Score: -104.88\n",
      "Episode 900\tAverage Score: -98.000\n",
      "Episode 1000\tAverage Score: -92.94\n",
      "Episode 1100\tAverage Score: -92.24\n",
      "Episode 1200\tAverage Score: -85.74\n",
      "Episode 1300\tAverage Score: -80.71\n",
      "Episode 1400\tAverage Score: -80.63\n",
      "Episode 1500\tAverage Score: -80.23\n",
      "Episode 1600\tAverage Score: -78.84\n",
      "Episode 1700\tAverage Score: -77.44\n",
      "Episode 1800\tAverage Score: -74.68\n",
      "Episode 1900\tAverage Score: -75.61\n",
      "Episode 2000\tAverage Score: -72.52\n",
      "Episode 2100\tAverage Score: -74.84\n",
      "Episode 2200\tAverage Score: -75.34\n",
      "Episode 2300\tAverage Score: -76.96\n",
      "Episode 2400\tAverage Score: -75.15\n",
      "Episode 2500\tAverage Score: -72.47\n",
      "Episode 2600\tAverage Score: -73.20\n",
      "Episode 2700\tAverage Score: -72.83\n",
      "Episode 2800\tAverage Score: -69.09\n",
      "Episode 2900\tAverage Score: -69.94\n",
      "Episode 3000\tAverage Score: -71.69\n"
     ]
    },
    {
     "data": {
      "image/png": "[encoded data removed]",
      "text/plain": [
       "<Figure size 432x288 with 1 Axes>"
      ]
     },
     "metadata": {},
     "output_type": "display_data"
    },
    {
     "name": "stdout",
     "output_type": "stream",
     "text": [
      "Best 100-episode performance: -67.08 +/- 7.4130695396711355\n"
     ]
    }
   ],
   "source": [
    "with open(os.path.join(\".\", \"configs\", \"Acrobot_v1.json\"), \"r\") as read_file:\n",
    "    config = json.load(read_file)\n",
    "    \n",
    "env = gym.make(config[\"general\"][\"env_name\"])\n",
    "env.seed(config[\"general\"][\"seed\"])\n",
    "agent = Agent(config=config)\n",
    "\n",
    "if config[\"train\"][\"run_training\"]:\n",
    "    scores, best_mean, best_std = sessions.train(agent, env, config)\n",
    "    helper.plot_scores(scores)\n",
    "    print(\"Best 100-episode performance: {} +/- {}\".format(best_mean, best_std))\n",
    "    agent.save()\n",
    "else:\n",
    "    agent.load()\n",
    "    score = sessions.test(agent, env, config)\n",
    "    print(\"Episode score: {}\".format(score))"
   ]
  },
  {
   "cell_type": "markdown",
   "metadata": {},
   "source": [
    "### Environment: CartPole_v1"
   ]
  },
  {
   "cell_type": "markdown",
   "metadata": {},
   "source": [
    "- CartPole-v0 defines \"solving\" as getting average reward of 195.0 over 100 consecutive trials."
   ]
  },
  {
   "cell_type": "code",
   "execution_count": 4,
   "metadata": {},
   "outputs": [
    {
     "name": "stdout",
     "output_type": "stream",
     "text": [
      "\u001b[33mWARN: gym.spaces.Box autodetected dtype as <class 'numpy.float32'>. Please provide explicit dtype.\u001b[0m\n",
      "Episode 100\tAverage Score: 21.19\n",
      "Episode 200\tAverage Score: 15.60\n",
      "Episode 300\tAverage Score: 12.51\n",
      "Episode 400\tAverage Score: 14.74\n",
      "Episode 500\tAverage Score: 83.52\n",
      "Episode 600\tAverage Score: 193.96\n",
      "Episode 622\tAverage Score: 195.04\n",
      "CartPole-v1 Environment solved in 522 episodes!\n"
     ]
    },
    {
     "data": {
      "image/png": "[encoded data removed]",
      "text/plain": [
       "<Figure size 432x288 with 1 Axes>"
      ]
     },
     "metadata": {},
     "output_type": "display_data"
    },
    {
     "name": "stdout",
     "output_type": "stream",
     "text": [
      "Best 100-episode performance: 195.04 +/- 7.854832907197962\n"
     ]
    }
   ],
   "source": [
    "with open(os.path.join(\".\", \"configs\", \"CartPole_v1.json\"), \"r\") as read_file:\n",
    "    config = json.load(read_file)\n",
    "    \n",
    "env = gym.make(config[\"general\"][\"env_name\"])\n",
    "env.seed(config[\"general\"][\"seed\"])\n",
    "agent = Agent(config=config)\n",
    "\n",
    "if config[\"train\"][\"run_training\"]:\n",
    "    scores, best_mean, best_std = sessions.train(agent, env, config)\n",
    "    helper.plot_scores(scores)\n",
    "    print(\"Best 100-episode performance: {} +/- {}\".format(best_mean, best_std))\n",
    "    agent.save()\n",
    "else:\n",
    "    agent.load()\n",
    "    score = sessions.test(agent, env, config)\n",
    "    print(\"Episode score: {}\".format(score))"
   ]
  },
  {
   "cell_type": "markdown",
   "metadata": {},
   "source": [
    "# Extended Deep Q-Learning for Multilayer Perceptron\n",
    "\n",
    "This project includes an extended version of the Deep Q-Learning algorithm. \n",
    "\n",
    "Deep Q-Learning for Multilayer Perceptron<br>\n",
    "\\+ Fixed Q-Targets<br>\n",
    "\\+ Experience Replay<br>\n",
    "\\+ Gradient Clipping<br>\n",
    "\\+ Double Deep Q-Learning<br>\n",
    "\\+ Dueling Networks<br>\n",
    "\n",
    "For more information on the implemented features refer to Extended_Deep_Q_Learning_for_Multilayer_Perceptron.ipynb. The notebook includes a summary of all essential concepts used in the code. It also contains three examples where the algorithm is used to solve Open AI gym environments.\n",
    "\n",
    "### Dependencies\n",
    "\n",
    "1. Create (and activate) a new environment with Python 3.6.\n",
    "\n",
    "> conda create --name env_name python=3.6<br>\n",
    "> source activate env_name\n",
    "\n",
    "2. Install OpenAi Gym\n",
    "\n",
    "> git clone https://github.com/openai/gym.git<br>\n",
    "> cd gym<br>\n",
    "> pip install -e .<br>\n",
    "> pip install -e '.[box2d]'<br>\n",
    "> pip install -e '.[classic_control]'<br>\n",
    "> sudo apt-get install ffmpeg<br>\n",
    "\n",
    "3. Install Sourcecode dependencies\n",
    "\n",
    "> conda install -c rpi matplotlib <br>\n",
    "> conda install -c pytorch pytorch <br>\n",
    "> conda install -c anaconda numpy <br>\n",
    "\n",
    "### Instructions\n",
    "\n",
    "You can run the project via Extended_Deep_Q_Learning_for_Multilayer_Perceptron.ipynb or running the main.py file through the console.\n",
    "\n",
    "\n",
    "\n",
    "open the console and run: python main.py -c \"your_config_file\".json \n",
    "optional arguments:\n",
    "\n",
    "-h, --help\n",
    "\n",
    "    - show help message\n",
    "    \n",
    "-c , --config\n",
    "\n",
    "    - Config file name - file must be available as .json in ./configs\n",
    "    \n",
    "Example: python main.py -c \"Lunar_Lander_v2\".json \n",
    "\n",
    "#### Config File Description\n",
    "\n",
    "**\"general\"** : <br>\n",
    "> \"env_name\" : \"LunarLander-v2\", # The gym environment name you want to run<br>\n",
    "> \"monitor_dir\" : [\"monitor\"], # monitor file direction<br>\n",
    "> \"checkpoint_path\": [\"checkpoints\"], # checkpoint file direction<br>\n",
    "> \"seed\": 0, # random seed for numpy, gym and pytorch<br>\n",
    "> \"state_size\" : 8, # number of states<br>\n",
    "> \"action_size\" : 4, # number of actions<br>\n",
    "> \"average_score_for_solving\" : 200.0 # border value for solving the task<br>\n",
    "\n",
    "**\"train\"** : \n",
    "> \"nb_episodes\": 2000, # max number of episodes<br>\n",
    "> \"episode_length\": 1000, # max length of one episode<br>\n",
    "> \"batch_size\" : 256, # memory batch size<br>\n",
    "> \"epsilon_high\": 1.0, # epsilon start point<br>\n",
    "> \"epsilon_low\": 0.01, # min epsilon value<br>\n",
    "> \"epsilon_decay\": 0.995, # epsilon decay<br>\n",
    "> \"run_training\" : true # do you want to train? Otherwise run a test session<br>\n",
    "\n",
    "**\"agent\"** :\n",
    "> \"learning_rate\": 0.0005, # model learning rate<br>\n",
    "> \"gamma\" : 0.99, # reward weight<br>\n",
    "> \"tau\" : 0.001, # soft update factor<br>\n",
    "> \"update_rate\" : 4 # interval in which a learning step is done<br>\n",
    "\n",
    "**\"buffer\"** :\n",
    "> \"size\" : 100000 # experience replay buffer size<br>\n",
    "\n",
    "**\"model\"** :\n",
    "> \"fc1_nodes\" : 256, # number of fc1 output nodes<br>\n",
    "> \"fc2_adv\" : 256, # number of fc2_adv output nodes<br>\n",
    "> \"fc2_val\" : 128 # number of fc2_val output nodes<br>"
   ]
  },
  {
   "cell_type": "code",
   "execution_count": null,
   "metadata": {},
   "outputs": [],
   "source": []
  }
 ],
 "metadata": {
  "kernelspec": {
   "display_name": "Python 3",
   "language": "python",
   "name": "python3"
  },
  "language_info": {
   "codemirror_mode": {
    "name": "ipython",
    "version": 3
   },
   "file_extension": ".py",
   "mimetype": "text/x-python",
   "name": "python",
   "nbconvert_exporter": "python",
   "pygments_lexer": "ipython3",
   "version": "3.6.6"
  }
 },
 "nbformat": 4,
 "nbformat_minor": 2
}
